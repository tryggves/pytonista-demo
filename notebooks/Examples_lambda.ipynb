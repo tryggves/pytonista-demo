{
 "cells": [
  {
   "cell_type": "markdown",
   "metadata": {},
   "source": [
    "## Trying out lambda expressions and best practices.\n",
    "\n",
    "Based on the following resources:\n",
    "- https://realpython.com/python-lambda/#python-lambda-and-regular-functions\n",
    "- https://realpython.com/python-map-function/\n"
   ]
  },
  {
   "cell_type": "code",
   "execution_count": 1,
   "metadata": {},
   "outputs": [
    {
     "data": {
      "text/plain": [
       "6"
      ]
     },
     "execution_count": 1,
     "metadata": {},
     "output_type": "execute_result"
    }
   ],
   "source": [
    "# Immediately invoked function execution\n",
    "# Enclose the lambda expression in parantheses and pass the arguments\n",
    "(lambda a, b, c: a+b+c)(1,2,3)"
   ]
  },
  {
   "cell_type": "code",
   "execution_count": 6,
   "metadata": {},
   "outputs": [
    {
     "name": "stdout",
     "output_type": "stream",
     "text": [
      "1+2=3\n",
      "2-1=1\n",
      "2uknown1=None\n"
     ]
    }
   ],
   "source": [
    "# Function that returns the call of a lambda epression depending \n",
    "# on the given operator parameter and the two arguments. Pretty\n",
    "# neat example. \n",
    "\n",
    "# get() method gets the dictionary element given by operator,\n",
    "# in this case the lambda expression.\n",
    "# If the operator does not exist the lambda: None is returned\n",
    "# Note the ending () which calls the returned lambda function\n",
    "def dispatch_dict(operator, x, y):\n",
    "    return {\n",
    "        'add': lambda: x + y,\n",
    "        'sub': lambda: x - y,\n",
    "        'mul': lambda: x * y,\n",
    "        'div': lambda: x / y,\n",
    "    }.get(operator, lambda: None)()\n",
    "\n",
    "print(f\"1+2={dispatch_dict('add', 1, 2)}\")\n",
    "print(f\"2-1={dispatch_dict('sub', 2, 1)}\")\n",
    "print(f\"2unknown1={dispatch_dict('unknown', 2, 1)}\")"
   ]
  },
  {
   "cell_type": "code",
   "execution_count": 11,
   "metadata": {
    "scrolled": true
   },
   "outputs": [
    {
     "name": "stdout",
     "output_type": "stream",
     "text": [
      "3 square is 9\n",
      "4 square is 16\n"
     ]
    }
   ],
   "source": [
    "# Define a function\n",
    "def my_sqr(x):\n",
    "    return x**2\n",
    "\n",
    "print(f'3 square is {my_sqr(3)}')\n",
    "print(f'4 square is {my_sqr(4)}')"
   ]
  },
  {
   "cell_type": "code",
   "execution_count": 10,
   "metadata": {
    "scrolled": true
   },
   "outputs": [
    {
     "name": "stdout",
     "output_type": "stream",
     "text": [
      "3 square is 9\n",
      "4 square is 16\n"
     ]
    }
   ],
   "source": [
    "# Try this out with lambda expression\n",
    "print(f'3 square is {(lambda x: x**2)(3)}')\n",
    "print(f'4 square is {(lambda x: x**2)(4)}')"
   ]
  },
  {
   "cell_type": "code",
   "execution_count": 18,
   "metadata": {},
   "outputs": [
    {
     "name": "stdout",
     "output_type": "stream",
     "text": [
      "6\n",
      "6\n"
     ]
    }
   ],
   "source": [
    "# Passing varargs\n",
    "print((lambda *args: sum(args))(1,2,3))\n",
    "# Passing kwargs (keyword arguments)\n",
    "print((lambda **kwargs: sum(kwargs.values()))(en=1, to=2, tre=3))"
   ]
  },
  {
   "cell_type": "code",
   "execution_count": null,
   "metadata": {},
   "outputs": [],
   "source": []
  }
 ],
 "metadata": {
  "kernelspec": {
   "display_name": "Python 3",
   "language": "python",
   "name": "python3"
  },
  "language_info": {
   "codemirror_mode": {
    "name": "ipython",
    "version": 3
   },
   "file_extension": ".py",
   "mimetype": "text/x-python",
   "name": "python",
   "nbconvert_exporter": "python",
   "pygments_lexer": "ipython3",
   "version": "3.6.4"
  }
 },
 "nbformat": 4,
 "nbformat_minor": 2
}
