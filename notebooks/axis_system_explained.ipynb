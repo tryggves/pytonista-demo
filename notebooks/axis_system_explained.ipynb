{
 "cells": [
  {
   "cell_type": "markdown",
   "metadata": {},
   "source": [
    "# Explanation of the axis systhem transformation done in rotate_axis_system.py"
   ]
  },
  {
   "cell_type": "code",
   "execution_count": 8,
   "metadata": {},
   "outputs": [],
   "source": [
    "import numpy as np"
   ]
  },
  {
   "cell_type": "markdown",
   "metadata": {},
   "source": [
    "Lets take measurement examples: Each column i matrix X represent a measurement recording x, y, z components of the measurement vector. Hence, the matrix X below contains 4 measurements of 3-axis (x,y,z) vector."
   ]
  },
  {
   "cell_type": "code",
   "execution_count": 9,
   "metadata": {},
   "outputs": [
    {
     "data": {
      "text/plain": [
       "array([[1, 1, 1, 1],\n",
       "       [2, 2, 2, 2],\n",
       "       [3, 3, 3, 3]])"
      ]
     },
     "execution_count": 9,
     "metadata": {},
     "output_type": "execute_result"
    }
   ],
   "source": [
    "x = [1, 1, 1, 1]\n",
    "y = [2, 2, 2, 2]\n",
    "z = [3, 3, 3, 3]\n",
    "X = np.array([x, y, z])\n",
    "X"
   ]
  },
  {
   "cell_type": "markdown",
   "metadata": {},
   "source": [
    "We are then doing a axis transformation where we rotate x,y plane 90 degrees anticlockwise around the z-axis. The general transformation matrix for this rotation is \n",
    "\n",
    "$$\n",
    "\\begin{bmatrix}\n",
    "cos \\theta & -sin \\theta & 0 \\\\\n",
    "sin \\theta & cos \\theta & 0 \\\\\n",
    "0 & 0 & 1\n",
    "\\end{bmatrix}\n",
    "\\\\\n",
    "\n",
    "\\text{For } \\theta = \\frac{\\pi}{2} \\text{we get the transformation matrix A below.}\n",
    "$$\n",
    "\n",
    "The result should be a transformation where for each vector (x,y,z), the values are replaced with:\n",
    "```\n",
    "[x,y,z] = [-y,x,z]\n",
    "```\n",
    "This can be carried out with the matrix multiplication\n",
    "```\n",
    "[x,y,z] = A @ [x,y,z]\n",
    "```\n",
    "with\n",
    "```\n",
    "A = [\n",
    "    [0, -1, 0],\n",
    "    [1, 0, 0],\n",
    "    [0, 0, 1],\n",
    "]\n",
    "```\n",
    "$$ \\text{This is how the matrix multiplication works for } \\\\\n",
    "A_z = AX \\\\\n",
    "\\text{ where } A_z \\text{ is the result of the matrix multiplication} $$\n",
    "\n",
    "The first row in A are the coefficients for calcuating x, the second y and the third row are for z component coming from each column of X (the measured values along the x,y,z axis)."
   ]
  },
  {
   "cell_type": "code",
   "execution_count": 10,
   "metadata": {},
   "outputs": [
    {
     "name": "stdout",
     "output_type": "stream",
     "text": [
      "X number of dimensions: 2\n",
      "X shape: (3, 4)\n",
      "Data type: int64\n"
     ]
    },
    {
     "data": {
      "text/plain": [
       "array([[-2, -2, -2, -2],\n",
       "       [ 1,  1,  1,  1],\n",
       "       [ 3,  3,  3,  3]])"
      ]
     },
     "execution_count": 10,
     "metadata": {},
     "output_type": "execute_result"
    }
   ],
   "source": [
    "print (f\"X number of dimensions: {X.ndim}\")\n",
    "print(f\"X shape: {X.shape}\")\n",
    "print(f\"Data type: {X.dtype}\")\n",
    "A = np.array(\n",
    "    [\n",
    "        [0, -1, 0],\n",
    "        [1, 0, 0],\n",
    "        [0, 0, 1],\n",
    "    ]\n",
    ")\n",
    "\n",
    "# Compute A_z the result of applying the rotation above to the input data X\n",
    "A @ X"
   ]
  },
  {
   "cell_type": "markdown",
   "metadata": {},
   "source": [
    "As A is an invertible matrix, The exist a Matrix that we can name A_inv such that \n",
    "```\n",
    " A_inv @ A = A @ A_inv = I\n",
    "```\n",
    "where `I` is the Identity matrix\n",
    "\n",
    "This inverse matrix can be found using linear algebra with the function np.linalg.inv for instance.\n"
   ]
  },
  {
   "cell_type": "code",
   "execution_count": 11,
   "metadata": {},
   "outputs": [],
   "source": [
    "A_inv = np.linalg.inv(A)"
   ]
  },
  {
   "cell_type": "code",
   "execution_count": 12,
   "metadata": {},
   "outputs": [
    {
     "data": {
      "text/plain": [
       "array([[1., 0., 0.],\n",
       "       [0., 1., 0.],\n",
       "       [0., 0., 1.]])"
      ]
     },
     "execution_count": 12,
     "metadata": {},
     "output_type": "execute_result"
    }
   ],
   "source": [
    "A @ A_inv"
   ]
  },
  {
   "cell_type": "code",
   "execution_count": 13,
   "metadata": {},
   "outputs": [
    {
     "data": {
      "text/plain": [
       "array([[1., 0., 0.],\n",
       "       [0., 1., 0.],\n",
       "       [0., 0., 1.]])"
      ]
     },
     "execution_count": 13,
     "metadata": {},
     "output_type": "execute_result"
    }
   ],
   "source": [
    "A_inv @ A"
   ]
  },
  {
   "cell_type": "markdown",
   "metadata": {},
   "source": [
    "So if someone has applied a transformation A to the data X, one can revert the transformation by multiplying the transformed data with A_inv as\n",
    "```\n",
    "A_inv @ A @ X = I @ X = X\n",
    "```\n"
   ]
  },
  {
   "cell_type": "code",
   "execution_count": 14,
   "metadata": {},
   "outputs": [
    {
     "data": {
      "text/plain": [
       "array([[1., 1., 1., 1.],\n",
       "       [2., 2., 2., 2.],\n",
       "       [3., 3., 3., 3.]])"
      ]
     },
     "execution_count": 14,
     "metadata": {},
     "output_type": "execute_result"
    }
   ],
   "source": [
    "A_inv @ A @ X"
   ]
  }
 ],
 "metadata": {
  "kernelspec": {
   "display_name": ".venv (3.12.5)",
   "language": "python",
   "name": "python3"
  },
  "language_info": {
   "codemirror_mode": {
    "name": "ipython",
    "version": 3
   },
   "file_extension": ".py",
   "mimetype": "text/x-python",
   "name": "python",
   "nbconvert_exporter": "python",
   "pygments_lexer": "ipython3",
   "version": "3.12.5"
  }
 },
 "nbformat": 4,
 "nbformat_minor": 2
}
